{
 "cells": [
  {
   "cell_type": "code",
   "execution_count": 19,
   "metadata": {},
   "outputs": [
    {
     "data": {
      "text/plain": [
       "Index(['Unnamed: 0', 'approved_at_utc', 'approved_by', 'archived', 'author',\n",
       "       'author_cakeday', 'author_flair_css_class', 'author_flair_template_id',\n",
       "       'author_flair_text', 'banned_at_utc', 'banned_by', 'can_gild',\n",
       "       'can_mod_post', 'clicked', 'contest_mode', 'created', 'created_utc',\n",
       "       'crosspost_parent', 'crosspost_parent_list', 'distinguished', 'domain',\n",
       "       'downs', 'edited', 'gilded', 'hidden', 'hide_score', 'id',\n",
       "       'is_crosspostable', 'is_reddit_media_domain', 'is_self', 'is_video',\n",
       "       'likes', 'link_flair_css_class', 'link_flair_text', 'locked', 'media',\n",
       "       'media_embed', 'media_metadata', 'media_only', 'mod_note',\n",
       "       'mod_reason_by', 'mod_reason_title', 'mod_reports', 'name', 'no_follow',\n",
       "       'num_comments', 'num_crossposts', 'num_reports', 'over_18',\n",
       "       'parent_whitelist_status', 'permalink', 'pinned', 'post_categories',\n",
       "       'post_hint', 'preview', 'previous_visits', 'pwls', 'quarantine',\n",
       "       'removal_reason', 'report_reasons', 'saved', 'score', 'secure_media',\n",
       "       'secure_media_embed', 'selftext', 'selftext_html', 'send_replies',\n",
       "       'spoiler', 'stickied', 'subreddit', 'subreddit_id',\n",
       "       'subreddit_name_prefixed', 'subreddit_subscribers', 'subreddit_type',\n",
       "       'suggested_sort', 'thumbnail', 'thumbnail_height', 'thumbnail_width',\n",
       "       'title', 'ups', 'url', 'user_reports', 'view_count', 'visited',\n",
       "       'whitelist_status', 'wls'],\n",
       "      dtype='object')"
      ]
     },
     "execution_count": 19,
     "metadata": {},
     "output_type": "execute_result"
    }
   ],
   "source": [
    "import pandas as pd\n",
    "\n",
    "data = pd.read_csv('data.csv')\n",
    "data = pd.DataFrame(data)\n",
    "data.head()\n",
    "data.columns"
   ]
  },
  {
   "cell_type": "code",
   "execution_count": 20,
   "metadata": {},
   "outputs": [
    {
     "data": {
      "text/plain": [
       "(22580, 85)"
      ]
     },
     "execution_count": 20,
     "metadata": {},
     "output_type": "execute_result"
    }
   ],
   "source": [
    "data.drop('Unnamed: 0', axis = 1, inplace = True)\n",
    "data.head()\n",
    "data.shape"
   ]
  },
  {
   "cell_type": "code",
   "execution_count": 21,
   "metadata": {},
   "outputs": [
    {
     "data": {
      "text/plain": [
       "12.0"
      ]
     },
     "execution_count": 21,
     "metadata": {},
     "output_type": "execute_result"
    }
   ],
   "source": [
    "#Predicting binary variable: low vs high comments\n",
    "    #low defined as <= median number of comments/post: <= 12\n",
    "    #high defined as > median number of comments/post: > 12\n",
    "    \n",
    "import numpy as np\n",
    "\n",
    "median_comments = np.median(data['num_comments'])\n",
    "median_comments"
   ]
  },
  {
   "cell_type": "code",
   "execution_count": 22,
   "metadata": {},
   "outputs": [
    {
     "data": {
      "text/plain": [
       "False    11593\n",
       "True     10987\n",
       "Name: binary_comments, dtype: int64"
      ]
     },
     "execution_count": 22,
     "metadata": {},
     "output_type": "execute_result"
    }
   ],
   "source": [
    "#Add in binary label as target in dataset\n",
    "data['binary_comments'] = [False if i <= 12 else True for i in data['num_comments']]\n",
    "data['binary_comments'].head()\n",
    "\n",
    "#check values\n",
    "    #51% of posts labeled low: False (inclusive of 12)\n",
    "    #49% of posts labeled high: True (exclusive of 12)\n",
    "data['binary_comments'].value_counts()\n"
   ]
  },
  {
   "cell_type": "code",
   "execution_count": 23,
   "metadata": {},
   "outputs": [
    {
     "name": "stderr",
     "output_type": "stream",
     "text": [
      "/Users/chelen/anaconda3/envs/dsi/lib/python3.6/site-packages/seaborn/categorical.py:454: FutureWarning: remove_na is deprecated and is a private function. Do not use.\n",
      "  box_data = remove_na(group_data)\n"
     ]
    },
    {
     "data": {
      "image/png": "[encoded data removed]",
      "text/plain": [
       "<Figure size 720x432 with 1 Axes>"
      ]
     },
     "metadata": {},
     "output_type": "display_data"
    },
    {
     "data": {
      "image/png": "[encoded data removed]",
      "text/plain": [
       "<Figure size 720x432 with 1 Axes>"
      ]
     },
     "metadata": {},
     "output_type": "display_data"
    }
   ],
   "source": [
    "#Plot distribution of num_comments/post\n",
    "import matplotlib.pyplot as plt\n",
    "import seaborn as sns\n",
    "\n",
    "fig = plt.figure(figsize = (10, 6))\n",
    "plt.hist(data['num_comments']);\n",
    "\n",
    "fig = plt.figure(figsize = (10, 6))\n",
    "sns.boxplot(data['num_comments']);"
   ]
  },
  {
   "cell_type": "code",
   "execution_count": 24,
   "metadata": {},
   "outputs": [
    {
     "data": {
      "text/plain": [
       "0.4865810451727192"
      ]
     },
     "execution_count": 24,
     "metadata": {},
     "output_type": "execute_result"
    }
   ],
   "source": [
    "#baseline accuracy for model is % of high comments\n",
    "baseline = data['binary_comments'].value_counts()[1] / (len(data['binary_comments']))\n",
    "baseline"
   ]
  },
  {
   "cell_type": "code",
   "execution_count": 25,
   "metadata": {},
   "outputs": [],
   "source": [
    "from sklearn.model_selection import train_test_split\n",
    "from sklearn.feature_extraction.text import CountVectorizer\n",
    "from sklearn.linear_model import LogisticRegression\n",
    "from sklearn.ensemble import RandomForestClassifier"
   ]
  },
  {
   "cell_type": "code",
   "execution_count": 44,
   "metadata": {},
   "outputs": [
    {
     "name": "stdout",
     "output_type": "stream",
     "text": [
      "funny                   89\n",
      "aww                     81\n",
      "gaming                  66\n",
      "pics                    63\n",
      "memes                   62\n",
      "FortNiteBR              61\n",
      "PrequelMemes            58\n",
      "PewdiepieSubmissions    55\n",
      "gifs                    55\n",
      "LiverpoolFC             51\n",
      "rupaulsdragrace         50\n",
      "Showerthoughts          50\n",
      "mildlyinteresting       50\n",
      "todayilearned           47\n",
      "DDLC                    46\n",
      "DeepFriedMemes          45\n",
      "oddlysatisfying         44\n",
      "LivestreamFail          43\n",
      "greatawakening          43\n",
      "tumblr                  42\n",
      "AskReddit               42\n",
      "MemeEconomy             41\n",
      "BlackPeopleTwitter      40\n",
      "FireEmblemHeroes        40\n",
      "wholesomememes          39\n",
      "CringeAnarchy           39\n",
      "OldSchoolCool           37\n",
      "greentext               37\n",
      "cursedimages            36\n",
      "interestingasfuck       36\n",
      "                        ..\n",
      "doge                     1\n",
      "othepelican              1\n",
      "Rochester                1\n",
      "desmoines                1\n",
      "reckful                  1\n",
      "RTLSDR                   1\n",
      "Knoxville                1\n",
      "mega64                   1\n",
      "ps4homebrew              1\n",
      "celestegame              1\n",
      "Equestrian               1\n",
      "NotFoolingAnybody        1\n",
      "mitsubishi               1\n",
      "GBDS                     1\n",
      "SwainMains               1\n",
      "visionary_games          1\n",
      "JustMonika               1\n",
      "TallGirls                1\n",
      "KimKardashianPics        1\n",
      "RowlingWritings          1\n",
      "papgrappen               1\n",
      "Construction             1\n",
      "KatherineMcNamara        1\n",
      "ContraPoints             1\n",
      "SUBREDDITNAME            1\n",
      "SouthParkPhone           1\n",
      "ShitThe_DonaldSays       1\n",
      "battlebots               1\n",
      "BirdsForScale            1\n",
      "AdvancedFitness          1\n",
      "Name: subreddit, Length: 3736, dtype: int64\n",
      "subreddit\n",
      "announcements          1498.0\n",
      "AskReddit              1294.5\n",
      "AbuseInterrupted        572.0\n",
      "MemeEconomy             463.0\n",
      "television              380.0\n",
      "worldnews               325.0\n",
      "news                    270.0\n",
      "AskMen                  218.0\n",
      "personalfinance         209.0\n",
      "pics                    205.0\n",
      "RoastMe                 195.0\n",
      "PoliticalDiscussion     188.0\n",
      "AdPorn                  177.0\n",
      "movies                  169.5\n",
      "todayilearned           163.0\n",
      "tifu                    145.0\n",
      "IAmA                    144.0\n",
      "soccerstreams           143.5\n",
      "gaming                  138.5\n",
      "MURICA                  130.5\n",
      "TwoXChromosomes         125.5\n",
      "AskWomen                123.5\n",
      "funny                   122.0\n",
      "canada                  120.0\n",
      "Frugal                  119.0\n",
      "videos                  119.0\n",
      "mechmarket              111.5\n",
      "MMA                     109.0\n",
      "cringe                  108.0\n",
      "SubredditDrama          107.5\n",
      "                        ...  \n",
      "jackrussellterrier        0.0\n",
      "jag_ivl                   0.0\n",
      "juliakelly                0.0\n",
      "Spongebros                0.0\n",
      "Animedubs                 0.0\n",
      "IggyAzalea                0.0\n",
      "karengillan               0.0\n",
      "BlackClover               0.0\n",
      "theydidntdothemath        0.0\n",
      "policeporn                0.0\n",
      "kpics                     0.0\n",
      "taylormariehill           0.0\n",
      "CrossView                 0.0\n",
      "GotG                      0.0\n",
      "TuckedInPuppies           0.0\n",
      "UpvotedBecauseBoobs       0.0\n",
      "United_Meme_Nations       0.0\n",
      "excatholic                0.0\n",
      "DarlingInTheMemes         0.0\n",
      "fujix                     0.0\n",
      "TurkeyJerky               0.0\n",
      "Archaeology               0.0\n",
      "happygirls                0.0\n",
      "HaileeSteinfeld           0.0\n",
      "geologyporn               0.0\n",
      "CyanideandHappiness       0.0\n",
      "gopro                     0.0\n",
      "TibiaMMO                  0.0\n",
      "The_Europe                0.0\n",
      "Wrasslin                  0.0\n",
      "Name: num_comments, Length: 3736, dtype: float64\n"
     ]
    },
    {
     "name": "stderr",
     "output_type": "stream",
     "text": [
      "/Users/chelen/anaconda3/envs/dsi/lib/python3.6/site-packages/seaborn/categorical.py:454: FutureWarning: remove_na is deprecated and is a private function. Do not use.\n",
      "  box_data = remove_na(group_data)\n"
     ]
    },
    {
     "data": {
      "image/png": "[encoded data removed]",
      "text/plain": [
       "<Figure size 576x360 with 1 Axes>"
      ]
     },
     "metadata": {},
     "output_type": "display_data"
    }
   ],
   "source": [
    "#set feature and target variables\n",
    "X = data['subreddit']\n",
    "y = data['binary_comments']\n",
    "\n",
    "fig = plt.figure(figsize = (8, 5))\n",
    "sns.boxplot(X.value_counts(), orient = 'h');\n",
    "\n",
    "#print(type(X))\n",
    "print(X.value_counts())\n",
    "print(data.groupby(['subreddit'])['num_comments'].median().sort_values(ascending = False))"
   ]
  },
  {
   "cell_type": "code",
   "execution_count": 45,
   "metadata": {},
   "outputs": [
    {
     "name": "stdout",
     "output_type": "stream",
     "text": [
      "cv_X: <class 'scipy.sparse.csr.csr_matrix'>\n",
      "cv_X_array: <class 'numpy.ndarray'>\n",
      "(22580, 3734) (22580,)\n"
     ]
    }
   ],
   "source": [
    "#additional step: group similar subreddits\n",
    "\n",
    "#from nltk.stem import WordNetLemmatizer\n",
    "#lemmatizer = WordNetLemmatizer()\n",
    "#X_lemma = [lemmatizer.lemmatize(i) for i in X]\n",
    "#for i in X:\n",
    "#    print (i, lemmatizer.lemmatize(i))\n",
    "\n",
    "#CountVectorize feature set\n",
    "cv = CountVectorizer(stop_words = 'english')\n",
    "cv.fit(X)\n",
    "cv_X = cv.fit_transform(X)\n",
    "cv_X_array = cv_X.toarray()\n",
    "\n",
    "print('cv_X:', type(cv_X))\n",
    "print('cv_X_array:', type(cv_X_array))\n",
    "print(cv_X_array.shape, y.shape)\n"
   ]
  },
  {
   "cell_type": "code",
   "execution_count": 46,
   "metadata": {},
   "outputs": [
    {
     "name": "stdout",
     "output_type": "stream",
     "text": [
      "(15806, 3734) (15806,)\n",
      "(6774, 3734) (6774,)\n"
     ]
    }
   ],
   "source": [
    "#train-test-split dataset\n",
    "cv_X_train, cv_X_test, y_train, y_test = train_test_split(cv_X_array, y, test_size = 0.3)\n",
    "\n",
    "print(cv_X_train.shape, y_train.shape)\n",
    "print(cv_X_test.shape, y_test.shape)\n"
   ]
  },
  {
   "cell_type": "code",
   "execution_count": 47,
   "metadata": {},
   "outputs": [
    {
     "name": "stdout",
     "output_type": "stream",
     "text": [
      "train: 0.8007085916740478\n",
      "test: 0.7171538234425745\n"
     ]
    }
   ],
   "source": [
    "#1. Logistic regression classifier\n",
    "lr = LogisticRegression()\n",
    "lr.fit(cv_X_train, y_train)\n",
    "print('train:', lr.score(cv_X_train, y_train))\n",
    "\n",
    "print('test:', lr.score(cv_X_test, y_test))"
   ]
  },
  {
   "cell_type": "code",
   "execution_count": 51,
   "metadata": {},
   "outputs": [
    {
     "name": "stdout",
     "output_type": "stream",
     "text": [
      "0.7446539288877642\n",
      "0.6803956303513433\n"
     ]
    }
   ],
   "source": [
    "#2a. KNN with k = 1 classifier\n",
    "from sklearn.neighbors import KNeighborsClassifier\n",
    "knn = KNeighborsClassifier(n_neighbors = 1)\n",
    "knn.fit(cv_X_train, y_train)\n",
    "print(knn.score(cv_X_train, y_train))\n",
    "\n",
    "print(knn.score(cv_X_test, y_test))"
   ]
  },
  {
   "cell_type": "markdown",
   "metadata": {},
   "source": [
    "#TIMED OUT\n",
    "\n",
    "#2b. KNN with k = [3, 5, 7, 9, 11]\n",
    "k = [3, 5, 7, 9, 11]\n",
    "k_train = []\n",
    "k_test = []\n",
    "for i in k:\n",
    "    knn = KNeighborsClassifier(n_neighbors = i)\n",
    "    knn.fit(cv_X_train, y_train)\n",
    "    k_train.append(knn.score(cv_X_train, y_train))\n",
    "    k_test.append(knn.score(cv_X_test, y_test))\n",
    "    \n",
    "    print(k, knn.score(cv_X_train, y_train))\n",
    "    print(k, knn.score(cv_X_test, y_test))"
   ]
  },
  {
   "cell_type": "code",
   "execution_count": 52,
   "metadata": {},
   "outputs": [
    {
     "name": "stdout",
     "output_type": "stream",
     "text": [
      "train: 0.7969758319625458\n",
      "test: 0.6784765279007972\n"
     ]
    }
   ],
   "source": [
    "#3. Random Forest classifier\n",
    "rf = RandomForestClassifier()\n",
    "rf.fit(cv_X_train, y_train)\n",
    "print('train:', rf.score(cv_X_train, y_train))\n",
    "\n",
    "print('test:', rf.score(cv_X_test, y_test))"
   ]
  },
  {
   "cell_type": "code",
   "execution_count": null,
   "metadata": {},
   "outputs": [],
   "source": [
    "#Plotting results\n"
   ]
  },
  {
   "cell_type": "code",
   "execution_count": 14,
   "metadata": {},
   "outputs": [],
   "source": [
    "#Adding in new variables for thread title\n",
    "    #1. binary variable if 'cat' or 'funny' appears in title\n",
    "    #2. numerical variable for length of title: number of words\n",
    "    #3. numerical variable for intensity of title: punctuation - ?s and !s\n",
    "    #4. additional step: creating dictionary of words for classifying positive/negative sentiment\n"
   ]
  },
  {
   "cell_type": "code",
   "execution_count": 15,
   "metadata": {},
   "outputs": [
    {
     "data": {
      "text/plain": [
       "0    22273\n",
       "1      307\n",
       "Name: binary_variable, dtype: int64"
      ]
     },
     "execution_count": 15,
     "metadata": {},
     "output_type": "execute_result"
    }
   ],
   "source": [
    "#1. binary variable if 'cat' or 'funny' appears in title\n",
    "import numpy as np\n",
    "binary_variable = [1 if ('cat' in i) or ('funny' in i) else 0 for i in data['title']]\n",
    "binary_variable = pd.Series(binary_variable)\n",
    "\n",
    "data['binary_variable'] = binary_variable\n",
    "data['binary_variable'].value_counts()\n",
    "\n",
    "#i = data['title'][0]\n",
    "#for i in data['title']:\n",
    "#    if ('cat' or 'funny') in i:\n",
    "#        print (i, True)\n",
    "        \n",
    "#returns df rows for condition: np.where(data['title'].str.contains('cat'))\n"
   ]
  },
  {
   "cell_type": "code",
   "execution_count": 16,
   "metadata": {},
   "outputs": [],
   "source": [
    "#checking for 'cat' and 'funny'\n",
    "\n",
    "#X['cat_variable'] = data['title'].str.contains('cat')\n",
    "#X['funny_variable'] = data['title'].str.contains('funny')\n",
    "\n",
    "#print(X['cat_variable'].value_counts())\n",
    "#print ('\\n')\n",
    "#print(X['funny_variable'].value_counts())"
   ]
  },
  {
   "cell_type": "code",
   "execution_count": 17,
   "metadata": {},
   "outputs": [
    {
     "name": "stdout",
     "output_type": "stream",
     "text": [
      "(22580, 3734)\n"
     ]
    }
   ],
   "source": [
    "#CountVectorizer with binary_variable\n",
    "X = data['subreddit']\n",
    "\n",
    "cv = CountVectorizer(stop_words = 'english')\n",
    "cv.fit(X)\n",
    "cv_X = cv.fit_transform(X)\n",
    "cv_X_array = cv_X.toarray()\n",
    "\n",
    "print(cv_X_array.shape)"
   ]
  },
  {
   "cell_type": "code",
   "execution_count": 18,
   "metadata": {},
   "outputs": [
    {
     "name": "stdout",
     "output_type": "stream",
     "text": [
      "(22580, 3735)\n"
     ]
    }
   ],
   "source": [
    "cv_X = pd.DataFrame(cv_X_array)\n",
    "cv_X['binary_variable'] = data['binary_variable']\n",
    "print(cv_X.shape)\n"
   ]
  },
  {
   "cell_type": "code",
   "execution_count": 19,
   "metadata": {},
   "outputs": [
    {
     "name": "stdout",
     "output_type": "stream",
     "text": [
      "(15806, 3735) (15806,)\n",
      "(6774, 3735) (6774,)\n"
     ]
    }
   ],
   "source": [
    "#train-test-split dataset\n",
    "cv_X_train, cv_X_test, y_train, y_test = train_test_split(cv_X, y, test_size = 0.3)\n",
    "\n",
    "print(cv_X_train.shape, y_train.shape)\n",
    "print(cv_X_test.shape, y_test.shape)"
   ]
  },
  {
   "cell_type": "code",
   "execution_count": 20,
   "metadata": {},
   "outputs": [
    {
     "name": "stdout",
     "output_type": "stream",
     "text": [
      "train: 0.791155257497153\n",
      "test: 0.672128727487452\n"
     ]
    }
   ],
   "source": [
    "#Random Forest classifier with binary_variable\n",
    "rf = RandomForestClassifier()\n",
    "rf.fit(cv_X_train, y_train)\n",
    "print('train:', rf.score(cv_X_train, y_train))\n",
    "\n",
    "print('test:', rf.score(cv_X_test, y_test))"
   ]
  },
  {
   "cell_type": "code",
   "execution_count": 21,
   "metadata": {},
   "outputs": [],
   "source": [
    "#Binary variable did not improve model...decreased performance"
   ]
  },
  {
   "cell_type": "code",
   "execution_count": 22,
   "metadata": {},
   "outputs": [
    {
     "data": {
      "text/plain": [
       "5    2020\n",
       "4    1986\n",
       "3    1924\n",
       "6    1824\n",
       "7    1693\n",
       "Name: num_variable, dtype: int64"
      ]
     },
     "execution_count": 22,
     "metadata": {},
     "output_type": "execute_result"
    }
   ],
   "source": [
    "#2. numerical variable for length of title: number of words\n",
    "    #additional step: categorize into bins\n",
    "\n",
    "data['num_variable'] = [len(i.split()) for i in data['title']]\n",
    "data['num_variable'].value_counts().head()"
   ]
  },
  {
   "cell_type": "code",
   "execution_count": 23,
   "metadata": {},
   "outputs": [
    {
     "data": {
      "text/plain": [
       "0     18835\n",
       "1      3153\n",
       "2       378\n",
       "3       138\n",
       "4        42\n",
       "5        15\n",
       "6        10\n",
       "7         3\n",
       "9         2\n",
       "8         2\n",
       "10        1\n",
       "20        1\n",
       "Name: intensity_variable, dtype: int64"
      ]
     },
     "execution_count": 23,
     "metadata": {},
     "output_type": "execute_result"
    }
   ],
   "source": [
    "#3. numerical variable for intensity of title: punctuation - ?s and !s\n",
    "data['intensity_variable'] = [(i.count('!') + i.count('?')) for i in data['title']]\n",
    "data['intensity_variable'].value_counts()\n",
    "\n",
    "#for i in data['title']:\n",
    "#    print(i.count('!') + i.count('?'))"
   ]
  },
  {
   "cell_type": "code",
   "execution_count": 24,
   "metadata": {},
   "outputs": [
    {
     "name": "stdout",
     "output_type": "stream",
     "text": [
      "(22580, 3737)\n"
     ]
    },
    {
     "data": {
      "text/html": [
       "<div>\n",
       "<style scoped>\n",
       "    .dataframe tbody tr th:only-of-type {\n",
       "        vertical-align: middle;\n",
       "    }\n",
       "\n",
       "    .dataframe tbody tr th {\n",
       "        vertical-align: top;\n",
       "    }\n",
       "\n",
       "    .dataframe thead th {\n",
       "        text-align: right;\n",
       "    }\n",
       "</style>\n",
       "<table border=\"1\" class=\"dataframe\">\n",
       "  <thead>\n",
       "    <tr style=\"text-align: right;\">\n",
       "      <th></th>\n",
       "      <th>0</th>\n",
       "      <th>1</th>\n",
       "      <th>2</th>\n",
       "      <th>3</th>\n",
       "      <th>4</th>\n",
       "      <th>5</th>\n",
       "      <th>6</th>\n",
       "      <th>7</th>\n",
       "      <th>8</th>\n",
       "      <th>9</th>\n",
       "      <th>...</th>\n",
       "      <th>3727</th>\n",
       "      <th>3728</th>\n",
       "      <th>3729</th>\n",
       "      <th>3730</th>\n",
       "      <th>3731</th>\n",
       "      <th>3732</th>\n",
       "      <th>3733</th>\n",
       "      <th>binary_variable</th>\n",
       "      <th>num_variable</th>\n",
       "      <th>intensity_variable</th>\n",
       "    </tr>\n",
       "  </thead>\n",
       "  <tbody>\n",
       "    <tr>\n",
       "      <th>0</th>\n",
       "      <td>0</td>\n",
       "      <td>0</td>\n",
       "      <td>0</td>\n",
       "      <td>0</td>\n",
       "      <td>0</td>\n",
       "      <td>0</td>\n",
       "      <td>0</td>\n",
       "      <td>0</td>\n",
       "      <td>0</td>\n",
       "      <td>0</td>\n",
       "      <td>...</td>\n",
       "      <td>0</td>\n",
       "      <td>0</td>\n",
       "      <td>0</td>\n",
       "      <td>0</td>\n",
       "      <td>0</td>\n",
       "      <td>0</td>\n",
       "      <td>0</td>\n",
       "      <td>0</td>\n",
       "      <td>39</td>\n",
       "      <td>0</td>\n",
       "    </tr>\n",
       "    <tr>\n",
       "      <th>1</th>\n",
       "      <td>0</td>\n",
       "      <td>0</td>\n",
       "      <td>0</td>\n",
       "      <td>0</td>\n",
       "      <td>0</td>\n",
       "      <td>0</td>\n",
       "      <td>0</td>\n",
       "      <td>0</td>\n",
       "      <td>0</td>\n",
       "      <td>0</td>\n",
       "      <td>...</td>\n",
       "      <td>0</td>\n",
       "      <td>0</td>\n",
       "      <td>0</td>\n",
       "      <td>0</td>\n",
       "      <td>0</td>\n",
       "      <td>0</td>\n",
       "      <td>0</td>\n",
       "      <td>0</td>\n",
       "      <td>18</td>\n",
       "      <td>0</td>\n",
       "    </tr>\n",
       "    <tr>\n",
       "      <th>2</th>\n",
       "      <td>0</td>\n",
       "      <td>0</td>\n",
       "      <td>0</td>\n",
       "      <td>0</td>\n",
       "      <td>0</td>\n",
       "      <td>0</td>\n",
       "      <td>0</td>\n",
       "      <td>0</td>\n",
       "      <td>0</td>\n",
       "      <td>0</td>\n",
       "      <td>...</td>\n",
       "      <td>0</td>\n",
       "      <td>0</td>\n",
       "      <td>0</td>\n",
       "      <td>0</td>\n",
       "      <td>0</td>\n",
       "      <td>0</td>\n",
       "      <td>0</td>\n",
       "      <td>0</td>\n",
       "      <td>23</td>\n",
       "      <td>0</td>\n",
       "    </tr>\n",
       "    <tr>\n",
       "      <th>3</th>\n",
       "      <td>0</td>\n",
       "      <td>0</td>\n",
       "      <td>0</td>\n",
       "      <td>0</td>\n",
       "      <td>0</td>\n",
       "      <td>0</td>\n",
       "      <td>0</td>\n",
       "      <td>0</td>\n",
       "      <td>0</td>\n",
       "      <td>0</td>\n",
       "      <td>...</td>\n",
       "      <td>0</td>\n",
       "      <td>0</td>\n",
       "      <td>0</td>\n",
       "      <td>0</td>\n",
       "      <td>0</td>\n",
       "      <td>0</td>\n",
       "      <td>0</td>\n",
       "      <td>0</td>\n",
       "      <td>4</td>\n",
       "      <td>0</td>\n",
       "    </tr>\n",
       "    <tr>\n",
       "      <th>4</th>\n",
       "      <td>0</td>\n",
       "      <td>0</td>\n",
       "      <td>0</td>\n",
       "      <td>0</td>\n",
       "      <td>0</td>\n",
       "      <td>0</td>\n",
       "      <td>0</td>\n",
       "      <td>0</td>\n",
       "      <td>0</td>\n",
       "      <td>0</td>\n",
       "      <td>...</td>\n",
       "      <td>0</td>\n",
       "      <td>0</td>\n",
       "      <td>0</td>\n",
       "      <td>0</td>\n",
       "      <td>0</td>\n",
       "      <td>0</td>\n",
       "      <td>0</td>\n",
       "      <td>0</td>\n",
       "      <td>21</td>\n",
       "      <td>0</td>\n",
       "    </tr>\n",
       "  </tbody>\n",
       "</table>\n",
       "<p>5 rows × 3737 columns</p>\n",
       "</div>"
      ],
      "text/plain": [
       "   0  1  2  3  4  5  6  7  8  9         ...          3727  3728  3729  3730  \\\n",
       "0  0  0  0  0  0  0  0  0  0  0         ...             0     0     0     0   \n",
       "1  0  0  0  0  0  0  0  0  0  0         ...             0     0     0     0   \n",
       "2  0  0  0  0  0  0  0  0  0  0         ...             0     0     0     0   \n",
       "3  0  0  0  0  0  0  0  0  0  0         ...             0     0     0     0   \n",
       "4  0  0  0  0  0  0  0  0  0  0         ...             0     0     0     0   \n",
       "\n",
       "   3731  3732  3733  binary_variable  num_variable  intensity_variable  \n",
       "0     0     0     0                0            39                   0  \n",
       "1     0     0     0                0            18                   0  \n",
       "2     0     0     0                0            23                   0  \n",
       "3     0     0     0                0             4                   0  \n",
       "4     0     0     0                0            21                   0  \n",
       "\n",
       "[5 rows x 3737 columns]"
      ]
     },
     "execution_count": 24,
     "metadata": {},
     "output_type": "execute_result"
    }
   ],
   "source": [
    "cv_X['num_variable'] = data['num_variable']\n",
    "cv_X['intensity_variable'] = data['intensity_variable']\n",
    "\n",
    "print(cv_X.shape)\n",
    "cv_X.head()\n"
   ]
  },
  {
   "cell_type": "code",
   "execution_count": 25,
   "metadata": {},
   "outputs": [
    {
     "name": "stdout",
     "output_type": "stream",
     "text": [
      "(15806, 3737) (15806,)\n",
      "(6774, 3737) (6774,)\n"
     ]
    }
   ],
   "source": [
    "#train-test-split dataset\n",
    "cv_X_train, cv_X_test, y_train, y_test = train_test_split(cv_X, y, test_size = 0.3)\n",
    "\n",
    "print(cv_X_train.shape, y_train.shape)\n",
    "print(cv_X_test.shape, y_test.shape)"
   ]
  },
  {
   "cell_type": "code",
   "execution_count": 26,
   "metadata": {},
   "outputs": [
    {
     "name": "stdout",
     "output_type": "stream",
     "text": [
      "train: 0.9211691762621789\n",
      "test: 0.6182462356067316\n"
     ]
    }
   ],
   "source": [
    "#Random Forest classifier with new features\n",
    "rf = RandomForestClassifier()\n",
    "rf.fit(cv_X_train, y_train)\n",
    "print('train:', rf.score(cv_X_train, y_train))\n",
    "\n",
    "print('test:', rf.score(cv_X_test, y_test))"
   ]
  },
  {
   "cell_type": "code",
   "execution_count": 27,
   "metadata": {},
   "outputs": [],
   "source": [
    "#Adding in num_variable and intensity_variable increased the training model score\n",
    "    #decreased test set performance"
   ]
  },
  {
   "cell_type": "code",
   "execution_count": 28,
   "metadata": {},
   "outputs": [],
   "source": [
    "#Using CountVectorizer to create features based on thread title\n",
    "cv2 = CountVectorizer()\n",
    "cv2.fit(data['title'])\n",
    "cv2_X = cv2.fit_transform(data['title'])\n",
    "cv2_X_array = cv2_X.toarray()\n"
   ]
  },
  {
   "cell_type": "code",
   "execution_count": 29,
   "metadata": {},
   "outputs": [],
   "source": [
    "cv2_X = pd.DataFrame(cv2_X_array)\n",
    "\n",
    "cv_X_all = pd.concat([cv_X, cv2_X], axis = 1)"
   ]
  },
  {
   "cell_type": "code",
   "execution_count": 30,
   "metadata": {},
   "outputs": [
    {
     "name": "stdout",
     "output_type": "stream",
     "text": [
      "(22580, 3737) (22580, 26050) (22580, 29787)\n"
     ]
    }
   ],
   "source": [
    "print(cv_X.shape, cv2_X.shape, cv_X_all.shape)"
   ]
  },
  {
   "cell_type": "code",
   "execution_count": 31,
   "metadata": {},
   "outputs": [
    {
     "name": "stdout",
     "output_type": "stream",
     "text": [
      "(15806, 29787) (15806,)\n",
      "(6774, 29787) (6774,)\n"
     ]
    }
   ],
   "source": [
    "#train-test-split dataset\n",
    "cv_X_all_train, cv_X_all_test, y_train, y_test = train_test_split(cv_X_all, y, test_size = 0.3)\n",
    "\n",
    "print(cv_X_all_train.shape, y_train.shape)\n",
    "print(cv_X_all_test.shape, y_test.shape)"
   ]
  },
  {
   "cell_type": "code",
   "execution_count": 32,
   "metadata": {},
   "outputs": [
    {
     "name": "stdout",
     "output_type": "stream",
     "text": [
      "train: 0.8787802100468176\n",
      "test: 0.5079716563330381\n"
     ]
    }
   ],
   "source": [
    "#Random Forest classifier with new features\n",
    "rf = RandomForestClassifier()\n",
    "rf.fit(cv_X_train, y_train)\n",
    "print('train:', rf.score(cv_X_train, y_train))\n",
    "\n",
    "print('test:', rf.score(cv_X_test, y_test))"
   ]
  },
  {
   "cell_type": "code",
   "execution_count": 33,
   "metadata": {},
   "outputs": [],
   "source": [
    "#Adding CountVectorizer of post title leads to better model score for training data\n",
    "    #decreased test set performance"
   ]
  },
  {
   "cell_type": "code",
   "execution_count": 34,
   "metadata": {},
   "outputs": [
    {
     "name": "stdout",
     "output_type": "stream",
     "text": [
      "[0.63662239 0.63472486 0.63714015 0.62828219 0.625     ] [0.60029499 0.60738007 0.59852399 0.605613   0.57976366]\n"
     ]
    }
   ],
   "source": [
    "#Cross-validation to evaluate above model\n",
    "\n",
    "from sklearn.model_selection import cross_val_score\n",
    "\n",
    "train_scores = cross_val_score(rf, cv_X_all_train, y_train, cv = 5)\n",
    "test_scores = cross_val_score(rf, cv_X_all_test, y_test, cv = 5)\n",
    "print(train_scores, test_scores)"
   ]
  },
  {
   "cell_type": "code",
   "execution_count": 35,
   "metadata": {},
   "outputs": [],
   "source": [
    "#Cross-validation scores show poor performance of Random Forest model with CountVectorized subreddit and title variables"
   ]
  },
  {
   "cell_type": "code",
   "execution_count": 36,
   "metadata": {},
   "outputs": [],
   "source": [
    "#Non-Treebased Models\n",
    "    #1. Logistic Regression\n",
    "    #2. KNN\n",
    "        #a. with k = 1\n",
    "        #b. with k = [3, 5, 7, 9, 11]\n"
   ]
  },
  {
   "cell_type": "code",
   "execution_count": 37,
   "metadata": {},
   "outputs": [
    {
     "name": "stdout",
     "output_type": "stream",
     "text": [
      "0.9305327090978109\n",
      "0.6891054030115146\n"
     ]
    }
   ],
   "source": [
    "#1. Logistic Regression\n",
    "lr = LogisticRegression()\n",
    "lr.fit(cv_X_all_train, y_train)\n",
    "print(lr.score(cv_X_all_train, y_train))\n",
    "\n",
    "print(lr.score(cv_X_all_test, y_test))"
   ]
  },
  {
   "cell_type": "code",
   "execution_count": 38,
   "metadata": {},
   "outputs": [],
   "source": [
    "#Logistic Regression shows similarly poor performance to RF model\n",
    "    #high bias: underfit model"
   ]
  },
  {
   "cell_type": "code",
   "execution_count": 39,
   "metadata": {},
   "outputs": [
    {
     "name": "stdout",
     "output_type": "stream",
     "text": [
      "0.9843730229026951\n",
      "0.5481251845290818\n"
     ]
    }
   ],
   "source": [
    "#2a. KNN with k = 1\n",
    "from sklearn.neighbors import KNeighborsClassifier\n",
    "knn = KNeighborsClassifier(n_neighbors = 1)\n",
    "knn.fit(cv_X_all_train, y_train)\n",
    "print(knn.score(cv_X_all_train, y_train))\n",
    "\n",
    "print(knn.score(cv_X_all_test, y_test))"
   ]
  },
  {
   "cell_type": "code",
   "execution_count": null,
   "metadata": {},
   "outputs": [],
   "source": [
    "#KNN with k = 1 shows high bias: training set scores higher than RandomForest model\n",
    "    #decreased test set performance (worst of 3 models); KNN best fits non-linear relationships\n",
    "    #test with different k values"
   ]
  },
  {
   "cell_type": "markdown",
   "metadata": {},
   "source": [
    "#TIMED OUT\n",
    "\n",
    "#2b. KNN with k = [3, 5, 7, 9, 11]\n",
    "k = [3, 5, 7, 9, 11]\n",
    "k_train = []\n",
    "k_test = []\n",
    "for i in k:\n",
    "    knn = KNeighborsClassifier(n_neighbors = i)\n",
    "    knn.fit(cv_X_all_train, y_train)\n",
    "    k_train.append(knn.score(cv_X_all_train, y_train))\n",
    "    k_test.append(knn.score(cv_X_all_test, y_test))\n",
    "    \n",
    "    print(k, knn.score(cv_X_all_train, y_train))\n",
    "    print(k, knn.score(cv_X_all_test, y_test))\n"
   ]
  }
 ],
 "metadata": {
  "kernelspec": {
   "display_name": "Python [conda env:dsi]",
   "language": "python",
   "name": "conda-env-dsi-py"
  },
  "language_info": {
   "codemirror_mode": {
    "name": "ipython",
    "version": 3
   },
   "file_extension": ".py",
   "mimetype": "text/x-python",
   "name": "python",
   "nbconvert_exporter": "python",
   "pygments_lexer": "ipython3",
   "version": "3.6.5"
  }
 },
 "nbformat": 4,
 "nbformat_minor": 2
}
