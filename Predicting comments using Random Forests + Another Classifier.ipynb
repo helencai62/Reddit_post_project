{
 "cells": [
  {
   "cell_type": "code",
   "execution_count": 409,
   "metadata": {},
   "outputs": [],
   "source": [
    "import pandas as pd"
   ]
  },
  {
   "cell_type": "code",
   "execution_count": 410,
   "metadata": {},
   "outputs": [
    {
     "data": {
      "text/html": [
       "<div>\n",
       "<style scoped>\n",
       "    .dataframe tbody tr th:only-of-type {\n",
       "        vertical-align: middle;\n",
       "    }\n",
       "\n",
       "    .dataframe tbody tr th {\n",
       "        vertical-align: top;\n",
       "    }\n",
       "\n",
       "    .dataframe thead th {\n",
       "        text-align: right;\n",
       "    }\n",
       "</style>\n",
       "<table border=\"1\" class=\"dataframe\">\n",
       "  <thead>\n",
       "    <tr style=\"text-align: right;\">\n",
       "      <th></th>\n",
       "      <th>Unnamed: 0</th>\n",
       "      <th>approved_at_utc</th>\n",
       "      <th>approved_by</th>\n",
       "      <th>archived</th>\n",
       "      <th>author</th>\n",
       "      <th>author_cakeday</th>\n",
       "      <th>author_flair_css_class</th>\n",
       "      <th>author_flair_template_id</th>\n",
       "      <th>author_flair_text</th>\n",
       "      <th>banned_at_utc</th>\n",
       "      <th>...</th>\n",
       "      <th>thumbnail_height</th>\n",
       "      <th>thumbnail_width</th>\n",
       "      <th>title</th>\n",
       "      <th>ups</th>\n",
       "      <th>url</th>\n",
       "      <th>user_reports</th>\n",
       "      <th>view_count</th>\n",
       "      <th>visited</th>\n",
       "      <th>whitelist_status</th>\n",
       "      <th>wls</th>\n",
       "    </tr>\n",
       "  </thead>\n",
       "  <tbody>\n",
       "    <tr>\n",
       "      <th>0</th>\n",
       "      <td>0</td>\n",
       "      <td>NaN</td>\n",
       "      <td>NaN</td>\n",
       "      <td>False</td>\n",
       "      <td>jellybeanpie</td>\n",
       "      <td>NaN</td>\n",
       "      <td>NaN</td>\n",
       "      <td>NaN</td>\n",
       "      <td>NaN</td>\n",
       "      <td>NaN</td>\n",
       "      <td>...</td>\n",
       "      <td>NaN</td>\n",
       "      <td>NaN</td>\n",
       "      <td>LPT: If you really want to connect with someon...</td>\n",
       "      <td>17851</td>\n",
       "      <td>https://www.reddit.com/r/LifeProTips/comments/...</td>\n",
       "      <td>[]</td>\n",
       "      <td>NaN</td>\n",
       "      <td>False</td>\n",
       "      <td>all_ads</td>\n",
       "      <td>6.0</td>\n",
       "    </tr>\n",
       "    <tr>\n",
       "      <th>1</th>\n",
       "      <td>1</td>\n",
       "      <td>NaN</td>\n",
       "      <td>NaN</td>\n",
       "      <td>False</td>\n",
       "      <td>TheFirstMultimate</td>\n",
       "      <td>NaN</td>\n",
       "      <td>NaN</td>\n",
       "      <td>NaN</td>\n",
       "      <td>NaN</td>\n",
       "      <td>NaN</td>\n",
       "      <td>...</td>\n",
       "      <td>NaN</td>\n",
       "      <td>NaN</td>\n",
       "      <td>Seeing a [deleted] comment is like arriving la...</td>\n",
       "      <td>27056</td>\n",
       "      <td>https://www.reddit.com/r/Showerthoughts/commen...</td>\n",
       "      <td>[]</td>\n",
       "      <td>NaN</td>\n",
       "      <td>False</td>\n",
       "      <td>all_ads</td>\n",
       "      <td>6.0</td>\n",
       "    </tr>\n",
       "    <tr>\n",
       "      <th>2</th>\n",
       "      <td>2</td>\n",
       "      <td>NaN</td>\n",
       "      <td>NaN</td>\n",
       "      <td>False</td>\n",
       "      <td>Figsnbacon</td>\n",
       "      <td>NaN</td>\n",
       "      <td>NaN</td>\n",
       "      <td>NaN</td>\n",
       "      <td>NaN</td>\n",
       "      <td>NaN</td>\n",
       "      <td>...</td>\n",
       "      <td>140.0</td>\n",
       "      <td>140.0</td>\n",
       "      <td>Heartbroken she couldn’t win the TRex in the c...</td>\n",
       "      <td>15606</td>\n",
       "      <td>https://i.redd.it/rewlox8jm2011.jpg</td>\n",
       "      <td>[]</td>\n",
       "      <td>NaN</td>\n",
       "      <td>False</td>\n",
       "      <td>all_ads</td>\n",
       "      <td>6.0</td>\n",
       "    </tr>\n",
       "    <tr>\n",
       "      <th>3</th>\n",
       "      <td>3</td>\n",
       "      <td>NaN</td>\n",
       "      <td>NaN</td>\n",
       "      <td>False</td>\n",
       "      <td>jessejamess</td>\n",
       "      <td>NaN</td>\n",
       "      <td>NaN</td>\n",
       "      <td>NaN</td>\n",
       "      <td>NaN</td>\n",
       "      <td>NaN</td>\n",
       "      <td>...</td>\n",
       "      <td>78.0</td>\n",
       "      <td>140.0</td>\n",
       "      <td>Double Cork Dome Drag</td>\n",
       "      <td>12815</td>\n",
       "      <td>https://gfycat.com/ForsakenMediumClownanemonefish</td>\n",
       "      <td>[]</td>\n",
       "      <td>NaN</td>\n",
       "      <td>False</td>\n",
       "      <td>all_ads</td>\n",
       "      <td>6.0</td>\n",
       "    </tr>\n",
       "    <tr>\n",
       "      <th>4</th>\n",
       "      <td>4</td>\n",
       "      <td>NaN</td>\n",
       "      <td>NaN</td>\n",
       "      <td>False</td>\n",
       "      <td>waterunderwind</td>\n",
       "      <td>1.0</td>\n",
       "      <td>NaN</td>\n",
       "      <td>NaN</td>\n",
       "      <td>NaN</td>\n",
       "      <td>NaN</td>\n",
       "      <td>...</td>\n",
       "      <td>140.0</td>\n",
       "      <td>140.0</td>\n",
       "      <td>TIL: albino sequoias, A tree that can’t produc...</td>\n",
       "      <td>1877</td>\n",
       "      <td>https://ascendenza.files.wordpress.com/2011/02...</td>\n",
       "      <td>[]</td>\n",
       "      <td>NaN</td>\n",
       "      <td>False</td>\n",
       "      <td>promo_adult</td>\n",
       "      <td>1.0</td>\n",
       "    </tr>\n",
       "  </tbody>\n",
       "</table>\n",
       "<p>5 rows × 86 columns</p>\n",
       "</div>"
      ],
      "text/plain": [
       "   Unnamed: 0  approved_at_utc  approved_by  archived             author  \\\n",
       "0           0              NaN          NaN     False       jellybeanpie   \n",
       "1           1              NaN          NaN     False  TheFirstMultimate   \n",
       "2           2              NaN          NaN     False         Figsnbacon   \n",
       "3           3              NaN          NaN     False        jessejamess   \n",
       "4           4              NaN          NaN     False     waterunderwind   \n",
       "\n",
       "   author_cakeday  author_flair_css_class  author_flair_template_id  \\\n",
       "0             NaN                     NaN                       NaN   \n",
       "1             NaN                     NaN                       NaN   \n",
       "2             NaN                     NaN                       NaN   \n",
       "3             NaN                     NaN                       NaN   \n",
       "4             1.0                     NaN                       NaN   \n",
       "\n",
       "   author_flair_text  banned_at_utc ...   thumbnail_height  thumbnail_width  \\\n",
       "0                NaN            NaN ...                NaN              NaN   \n",
       "1                NaN            NaN ...                NaN              NaN   \n",
       "2                NaN            NaN ...              140.0            140.0   \n",
       "3                NaN            NaN ...               78.0            140.0   \n",
       "4                NaN            NaN ...              140.0            140.0   \n",
       "\n",
       "                                               title    ups  \\\n",
       "0  LPT: If you really want to connect with someon...  17851   \n",
       "1  Seeing a [deleted] comment is like arriving la...  27056   \n",
       "2  Heartbroken she couldn’t win the TRex in the c...  15606   \n",
       "3                              Double Cork Dome Drag  12815   \n",
       "4  TIL: albino sequoias, A tree that can’t produc...   1877   \n",
       "\n",
       "                                                 url  user_reports  \\\n",
       "0  https://www.reddit.com/r/LifeProTips/comments/...            []   \n",
       "1  https://www.reddit.com/r/Showerthoughts/commen...            []   \n",
       "2                https://i.redd.it/rewlox8jm2011.jpg            []   \n",
       "3  https://gfycat.com/ForsakenMediumClownanemonefish            []   \n",
       "4  https://ascendenza.files.wordpress.com/2011/02...            []   \n",
       "\n",
       "   view_count visited whitelist_status  wls  \n",
       "0         NaN   False          all_ads  6.0  \n",
       "1         NaN   False          all_ads  6.0  \n",
       "2         NaN   False          all_ads  6.0  \n",
       "3         NaN   False          all_ads  6.0  \n",
       "4         NaN   False      promo_adult  1.0  \n",
       "\n",
       "[5 rows x 86 columns]"
      ]
     },
     "execution_count": 410,
     "metadata": {},
     "output_type": "execute_result"
    }
   ],
   "source": [
    "data = pd.read_csv('data')\n",
    "data = pd.DataFrame(data)\n",
    "data.head()"
   ]
  },
  {
   "cell_type": "code",
   "execution_count": 411,
   "metadata": {},
   "outputs": [
    {
     "data": {
      "text/plain": [
       "(22580, 85)"
      ]
     },
     "execution_count": 411,
     "metadata": {},
     "output_type": "execute_result"
    }
   ],
   "source": [
    "data.drop('Unnamed: 0', axis = 1, inplace = True)\n",
    "data.head()\n",
    "data.shape"
   ]
  },
  {
   "cell_type": "code",
   "execution_count": 412,
   "metadata": {},
   "outputs": [
    {
     "data": {
      "text/plain": [
       "12.0"
      ]
     },
     "execution_count": 412,
     "metadata": {},
     "output_type": "execute_result"
    }
   ],
   "source": [
    "#Predicting binary variable: low vs high comments\n",
    "    #low defined as <= median number of comments/post: <= 12\n",
    "    #high defined as > median number of comments/post: > 12\n",
    "    \n",
    "import numpy as np\n",
    "\n",
    "median_comments = np.median(data['num_comments'])\n",
    "median_comments"
   ]
  },
  {
   "cell_type": "code",
   "execution_count": 413,
   "metadata": {},
   "outputs": [
    {
     "data": {
      "text/plain": [
       "False    11593\n",
       "True     10987\n",
       "Name: binary_comments, dtype: int64"
      ]
     },
     "execution_count": 413,
     "metadata": {},
     "output_type": "execute_result"
    }
   ],
   "source": [
    "#Add in binary label as target in dataset\n",
    "data['binary_comments'] = [False if i <= 12 else True for i in data['num_comments']]\n",
    "data['binary_comments'].head()\n",
    "\n",
    "#check values\n",
    "    #51% of posts labeled low: False (inclusive of 12)\n",
    "    #49% of posts labeled high: True (exclusive of 12)\n",
    "data['binary_comments'].value_counts()\n"
   ]
  },
  {
   "cell_type": "code",
   "execution_count": 414,
   "metadata": {},
   "outputs": [
    {
     "name": "stderr",
     "output_type": "stream",
     "text": [
      "/Users/chelen/anaconda3/envs/dsi/lib/python3.6/site-packages/seaborn/categorical.py:454: FutureWarning: remove_na is deprecated and is a private function. Do not use.\n",
      "  box_data = remove_na(group_data)\n"
     ]
    },
    {
     "data": {
      "image/png": "[encoded data removed]",
      "text/plain": [
       "<Figure size 720x432 with 1 Axes>"
      ]
     },
     "metadata": {},
     "output_type": "display_data"
    },
    {
     "data": {
      "image/png": "[encoded data removed]",
      "text/plain": [
       "<Figure size 720x432 with 1 Axes>"
      ]
     },
     "metadata": {},
     "output_type": "display_data"
    }
   ],
   "source": [
    "#Plot distribution of num_comments/post\n",
    "import matplotlib.pyplot as plt\n",
    "import seaborn as sns\n",
    "\n",
    "fig = plt.figure(figsize = (10, 6))\n",
    "plt.hist(data['num_comments']);\n",
    "\n",
    "fig = plt.figure(figsize = (10, 6))\n",
    "sns.boxplot(data['num_comments']);"
   ]
  },
  {
   "cell_type": "code",
   "execution_count": 415,
   "metadata": {},
   "outputs": [
    {
     "data": {
      "text/plain": [
       "0.4865810451727192"
      ]
     },
     "execution_count": 415,
     "metadata": {},
     "output_type": "execute_result"
    }
   ],
   "source": [
    "#baseline accuracy for model is % of high comments\n",
    "baseline = data['binary_comments'].value_counts()[1] / (len(data['binary_comments']))\n",
    "baseline"
   ]
  },
  {
   "cell_type": "code",
   "execution_count": 416,
   "metadata": {},
   "outputs": [],
   "source": [
    "from sklearn.model_selection import train_test_split\n",
    "from sklearn.feature_extraction.text import CountVectorizer\n",
    "from sklearn.linear_model import LogisticRegression\n",
    "from sklearn.ensemble import RandomForestClassifier"
   ]
  },
  {
   "cell_type": "code",
   "execution_count": 417,
   "metadata": {},
   "outputs": [
    {
     "name": "stdout",
     "output_type": "stream",
     "text": [
      "<class 'pandas.core.series.Series'>\n"
     ]
    },
    {
     "name": "stderr",
     "output_type": "stream",
     "text": [
      "/Users/chelen/anaconda3/envs/dsi/lib/python3.6/site-packages/seaborn/categorical.py:454: FutureWarning: remove_na is deprecated and is a private function. Do not use.\n",
      "  box_data = remove_na(group_data)\n"
     ]
    },
    {
     "data": {
      "text/plain": [
       "funny                   89\n",
       "aww                     81\n",
       "gaming                  66\n",
       "pics                    63\n",
       "memes                   62\n",
       "FortNiteBR              61\n",
       "PrequelMemes            58\n",
       "PewdiepieSubmissions    55\n",
       "gifs                    55\n",
       "LiverpoolFC             51\n",
       "Showerthoughts          50\n",
       "mildlyinteresting       50\n",
       "rupaulsdragrace         50\n",
       "todayilearned           47\n",
       "DDLC                    46\n",
       "DeepFriedMemes          45\n",
       "oddlysatisfying         44\n",
       "greatawakening          43\n",
       "LivestreamFail          43\n",
       "AskReddit               42\n",
       "tumblr                  42\n",
       "MemeEconomy             41\n",
       "BlackPeopleTwitter      40\n",
       "FireEmblemHeroes        40\n",
       "CringeAnarchy           39\n",
       "wholesomememes          39\n",
       "OldSchoolCool           37\n",
       "greentext               37\n",
       "interestingasfuck       36\n",
       "cursedimages            36\n",
       "                        ..\n",
       "CompanyOfHeroes          1\n",
       "dubai                    1\n",
       "Dirtbikes                1\n",
       "Wrasslin                 1\n",
       "TibiaMMO                 1\n",
       "gurrenlagann             1\n",
       "Hamilton                 1\n",
       "medejongeren             1\n",
       "Sims4                    1\n",
       "AirSwimming              1\n",
       "OldPhotosInRealLife      1\n",
       "German                   1\n",
       "Accutane                 1\n",
       "Trophies                 1\n",
       "EllaFreya                1\n",
       "NUFC                     1\n",
       "NotFoolingAnybody        1\n",
       "hinduism                 1\n",
       "Foofighters              1\n",
       "StarWarsArmada           1\n",
       "snackexchange            1\n",
       "LazyCats                 1\n",
       "Denton                   1\n",
       "hqtrivia                 1\n",
       "radioheadcirclejerk      1\n",
       "QuantumedMemes           1\n",
       "PS4Deals                 1\n",
       "RatchetAndClank          1\n",
       "AustralianShepherd       1\n",
       "HealthyFood              1\n",
       "Name: subreddit, Length: 3736, dtype: int64"
      ]
     },
     "execution_count": 417,
     "metadata": {},
     "output_type": "execute_result"
    },
    {
     "data": {
      "image/png": "[encoded data removed]",
      "text/plain": [
       "<Figure size 288x432 with 1 Axes>"
      ]
     },
     "metadata": {},
     "output_type": "display_data"
    }
   ],
   "source": [
    "#set feature and target variables\n",
    "X = data['subreddit']\n",
    "y = data['binary_comments']\n",
    "\n",
    "fig = plt.figure(figsize = (4, 6))\n",
    "sns.boxplot(X.value_counts(), orient = 'v');\n",
    "\n",
    "print(type(X))\n",
    "X.value_counts()\n",
    "#data[data['subreddit'] == 'funny']"
   ]
  },
  {
   "cell_type": "code",
   "execution_count": 421,
   "metadata": {},
   "outputs": [
    {
     "name": "stdout",
     "output_type": "stream",
     "text": [
      "cv_X: <class 'scipy.sparse.csr.csr_matrix'>\n",
      "cv_X_array: <class 'numpy.ndarray'>\n",
      "(22580, 3734) (22580,)\n"
     ]
    }
   ],
   "source": [
    "#additional step: group similar subreddits\n",
    "\n",
    "#from nltk.stem import WordNetLemmatizer\n",
    "#lemmatizer = WordNetLemmatizer()\n",
    "#X_lemma = [lemmatizer.lemmatize(i) for i in X]\n",
    "#for i in X:\n",
    "#    print (i, lemmatizer.lemmatize(i))\n",
    "\n",
    "#CountVectorize feature set\n",
    "cv = CountVectorizer(stop_words = 'english')\n",
    "cv.fit(X)\n",
    "cv_X = cv.fit_transform(X)\n",
    "cv_X_array = cv_X.toarray()\n",
    "\n",
    "print('cv_X:', type(cv_X))\n",
    "print('cv_X_array:', type(cv_X_array))\n",
    "print(cv_X_array.shape, y.shape)\n"
   ]
  },
  {
   "cell_type": "code",
   "execution_count": 420,
   "metadata": {},
   "outputs": [
    {
     "name": "stdout",
     "output_type": "stream",
     "text": [
      "(15806, 3734) (15806,)\n",
      "(6774, 3734) (6774,)\n"
     ]
    }
   ],
   "source": [
    "#train-test-split dataset\n",
    "cv_X_train, cv_X_test, y_train, y_test = train_test_split(cv_X_array, y, test_size = 0.3)\n",
    "\n",
    "print(cv_X_train.shape, y_train.shape)\n",
    "print(cv_X_test.shape, y_test.shape)\n"
   ]
  },
  {
   "cell_type": "code",
   "execution_count": 422,
   "metadata": {},
   "outputs": [
    {
     "name": "stdout",
     "output_type": "stream",
     "text": [
      "train: 0.7967227635075288\n",
      "test: 0.7170062001771479\n"
     ]
    }
   ],
   "source": [
    "#classify using logistic regression\n",
    "lr = LogisticRegression()\n",
    "lr.fit(cv_X_train, y_train)\n",
    "print('train:', lr.score(cv_X_train, y_train))\n",
    "\n",
    "print('test:', lr.score(cv_X_test, y_test))"
   ]
  },
  {
   "cell_type": "code",
   "execution_count": 424,
   "metadata": {},
   "outputs": [
    {
     "name": "stdout",
     "output_type": "stream",
     "text": [
      "train: 0.7923573326584841\n",
      "test: 0.683348095659876\n"
     ]
    }
   ],
   "source": [
    "rf = RandomForestClassifier()\n",
    "rf.fit(cv_X_train, y_train)\n",
    "print('train:', rf.score(cv_X_train, y_train))\n",
    "\n",
    "print('test:', rf.score(cv_X_test, y_test))"
   ]
  },
  {
   "cell_type": "code",
   "execution_count": 425,
   "metadata": {},
   "outputs": [],
   "source": [
    "#Adding in new variables for thread title\n",
    "    #1. binary variable if 'cat' or 'funny' appears in title\n",
    "    #2. numerical variable for length of title: number of words\n",
    "    #3. numerical variable for intensity of title: punctuation - ?s and !s\n",
    "    #4. additional step: creating dictionary of words for classifying positive/negative sentiment\n"
   ]
  },
  {
   "cell_type": "code",
   "execution_count": 426,
   "metadata": {},
   "outputs": [
    {
     "data": {
      "text/plain": [
       "0    22273\n",
       "1      307\n",
       "Name: binary_variable, dtype: int64"
      ]
     },
     "execution_count": 426,
     "metadata": {},
     "output_type": "execute_result"
    }
   ],
   "source": [
    "#1. binary variable if 'cat' or 'funny' appears in title\n",
    "import numpy as np\n",
    "binary_variable = [1 if ('cat' in i) or ('funny' in i) else 0 for i in data['title']]\n",
    "binary_variable = pd.Series(binary_variable)\n",
    "\n",
    "data['binary_variable'] = binary_variable\n",
    "data['binary_variable'].value_counts()\n",
    "\n",
    "#i = data['title'][0]\n",
    "#for i in data['title']:\n",
    "#    if ('cat' or 'funny') in i:\n",
    "#        print (i, True)\n",
    "        \n",
    "#returns df rows for condition: np.where(data['title'].str.contains('cat'))\n"
   ]
  },
  {
   "cell_type": "code",
   "execution_count": 427,
   "metadata": {},
   "outputs": [],
   "source": [
    "#checking for 'cat' and 'funny'\n",
    "\n",
    "#X['cat_variable'] = data['title'].str.contains('cat')\n",
    "#X['funny_variable'] = data['title'].str.contains('funny')\n",
    "\n",
    "#print(X['cat_variable'].value_counts())\n",
    "#print ('\\n')\n",
    "#print(X['funny_variable'].value_counts())"
   ]
  },
  {
   "cell_type": "code",
   "execution_count": 478,
   "metadata": {},
   "outputs": [
    {
     "name": "stdout",
     "output_type": "stream",
     "text": [
      "(22580, 3734)\n"
     ]
    }
   ],
   "source": [
    "#CountVectorizer with binary_variable\n",
    "X = data['subreddit']\n",
    "\n",
    "cv = CountVectorizer(stop_words = 'english')\n",
    "cv.fit(X)\n",
    "cv_X = cv.fit_transform(X)\n",
    "cv_X_array = cv_X.toarray()\n",
    "\n",
    "print(cv_X_array.shape)"
   ]
  },
  {
   "cell_type": "code",
   "execution_count": 479,
   "metadata": {},
   "outputs": [
    {
     "name": "stdout",
     "output_type": "stream",
     "text": [
      "(22580, 3735)\n"
     ]
    }
   ],
   "source": [
    "cv_X = pd.DataFrame(cv_X_array)\n",
    "cv_X['binary_variable'] = data['binary_variable']\n",
    "print(cv_X.shape)\n"
   ]
  },
  {
   "cell_type": "code",
   "execution_count": 480,
   "metadata": {},
   "outputs": [
    {
     "name": "stdout",
     "output_type": "stream",
     "text": [
      "(15806, 3735) (15806,)\n",
      "(6774, 3735) (6774,)\n"
     ]
    }
   ],
   "source": [
    "#train-test-split dataset\n",
    "cv_X_train, cv_X_test, y_train, y_test = train_test_split(cv_X, y, test_size = 0.3)\n",
    "\n",
    "print(cv_X_train.shape, y_train.shape)\n",
    "print(cv_X_test.shape, y_test.shape)"
   ]
  },
  {
   "cell_type": "code",
   "execution_count": 481,
   "metadata": {},
   "outputs": [
    {
     "name": "stdout",
     "output_type": "stream",
     "text": [
      "train: 0.7954574212324433\n",
      "test: 0.6772955417773842\n"
     ]
    }
   ],
   "source": [
    "#Random Forest classifier with binary_variable\n",
    "rf = RandomForestClassifier()\n",
    "rf.fit(cv_X_train, y_train)\n",
    "print('train:', rf.score(cv_X_train, y_train))\n",
    "\n",
    "print('test:', rf.score(cv_X_test, y_test))"
   ]
  },
  {
   "cell_type": "code",
   "execution_count": 482,
   "metadata": {},
   "outputs": [],
   "source": [
    "#Binary variable did not improve model...decreased performance"
   ]
  },
  {
   "cell_type": "code",
   "execution_count": 483,
   "metadata": {},
   "outputs": [
    {
     "data": {
      "text/plain": [
       "5    2020\n",
       "4    1986\n",
       "3    1924\n",
       "6    1824\n",
       "7    1693\n",
       "Name: num_variable, dtype: int64"
      ]
     },
     "execution_count": 483,
     "metadata": {},
     "output_type": "execute_result"
    }
   ],
   "source": [
    "#2. numerical variable for length of title: number of words\n",
    "    #additional step: categorize into bins\n",
    "\n",
    "data['num_variable'] = [len(i.split()) for i in data['title']]\n",
    "data['num_variable'].value_counts().head()"
   ]
  },
  {
   "cell_type": "code",
   "execution_count": 484,
   "metadata": {},
   "outputs": [
    {
     "data": {
      "text/plain": [
       "0     18835\n",
       "1      3153\n",
       "2       378\n",
       "3       138\n",
       "4        42\n",
       "5        15\n",
       "6        10\n",
       "7         3\n",
       "9         2\n",
       "8         2\n",
       "10        1\n",
       "20        1\n",
       "Name: intensity_variable, dtype: int64"
      ]
     },
     "execution_count": 484,
     "metadata": {},
     "output_type": "execute_result"
    }
   ],
   "source": [
    "#3. numerical variable for intensity of title: punctuation - ?s and !s\n",
    "data['intensity_variable'] = [(i.count('!') + i.count('?')) for i in data['title']]\n",
    "data['intensity_variable'].value_counts()\n",
    "\n",
    "#for i in data['title']:\n",
    "#    print(i.count('!') + i.count('?'))"
   ]
  },
  {
   "cell_type": "code",
   "execution_count": 485,
   "metadata": {},
   "outputs": [
    {
     "name": "stdout",
     "output_type": "stream",
     "text": [
      "(22580, 3737)\n"
     ]
    },
    {
     "data": {
      "text/html": [
       "<div>\n",
       "<style scoped>\n",
       "    .dataframe tbody tr th:only-of-type {\n",
       "        vertical-align: middle;\n",
       "    }\n",
       "\n",
       "    .dataframe tbody tr th {\n",
       "        vertical-align: top;\n",
       "    }\n",
       "\n",
       "    .dataframe thead th {\n",
       "        text-align: right;\n",
       "    }\n",
       "</style>\n",
       "<table border=\"1\" class=\"dataframe\">\n",
       "  <thead>\n",
       "    <tr style=\"text-align: right;\">\n",
       "      <th></th>\n",
       "      <th>0</th>\n",
       "      <th>1</th>\n",
       "      <th>2</th>\n",
       "      <th>3</th>\n",
       "      <th>4</th>\n",
       "      <th>5</th>\n",
       "      <th>6</th>\n",
       "      <th>7</th>\n",
       "      <th>8</th>\n",
       "      <th>9</th>\n",
       "      <th>...</th>\n",
       "      <th>3727</th>\n",
       "      <th>3728</th>\n",
       "      <th>3729</th>\n",
       "      <th>3730</th>\n",
       "      <th>3731</th>\n",
       "      <th>3732</th>\n",
       "      <th>3733</th>\n",
       "      <th>binary_variable</th>\n",
       "      <th>num_variable</th>\n",
       "      <th>intensity_variable</th>\n",
       "    </tr>\n",
       "  </thead>\n",
       "  <tbody>\n",
       "    <tr>\n",
       "      <th>0</th>\n",
       "      <td>0</td>\n",
       "      <td>0</td>\n",
       "      <td>0</td>\n",
       "      <td>0</td>\n",
       "      <td>0</td>\n",
       "      <td>0</td>\n",
       "      <td>0</td>\n",
       "      <td>0</td>\n",
       "      <td>0</td>\n",
       "      <td>0</td>\n",
       "      <td>...</td>\n",
       "      <td>0</td>\n",
       "      <td>0</td>\n",
       "      <td>0</td>\n",
       "      <td>0</td>\n",
       "      <td>0</td>\n",
       "      <td>0</td>\n",
       "      <td>0</td>\n",
       "      <td>0</td>\n",
       "      <td>39</td>\n",
       "      <td>0</td>\n",
       "    </tr>\n",
       "    <tr>\n",
       "      <th>1</th>\n",
       "      <td>0</td>\n",
       "      <td>0</td>\n",
       "      <td>0</td>\n",
       "      <td>0</td>\n",
       "      <td>0</td>\n",
       "      <td>0</td>\n",
       "      <td>0</td>\n",
       "      <td>0</td>\n",
       "      <td>0</td>\n",
       "      <td>0</td>\n",
       "      <td>...</td>\n",
       "      <td>0</td>\n",
       "      <td>0</td>\n",
       "      <td>0</td>\n",
       "      <td>0</td>\n",
       "      <td>0</td>\n",
       "      <td>0</td>\n",
       "      <td>0</td>\n",
       "      <td>0</td>\n",
       "      <td>18</td>\n",
       "      <td>0</td>\n",
       "    </tr>\n",
       "    <tr>\n",
       "      <th>2</th>\n",
       "      <td>0</td>\n",
       "      <td>0</td>\n",
       "      <td>0</td>\n",
       "      <td>0</td>\n",
       "      <td>0</td>\n",
       "      <td>0</td>\n",
       "      <td>0</td>\n",
       "      <td>0</td>\n",
       "      <td>0</td>\n",
       "      <td>0</td>\n",
       "      <td>...</td>\n",
       "      <td>0</td>\n",
       "      <td>0</td>\n",
       "      <td>0</td>\n",
       "      <td>0</td>\n",
       "      <td>0</td>\n",
       "      <td>0</td>\n",
       "      <td>0</td>\n",
       "      <td>0</td>\n",
       "      <td>23</td>\n",
       "      <td>0</td>\n",
       "    </tr>\n",
       "    <tr>\n",
       "      <th>3</th>\n",
       "      <td>0</td>\n",
       "      <td>0</td>\n",
       "      <td>0</td>\n",
       "      <td>0</td>\n",
       "      <td>0</td>\n",
       "      <td>0</td>\n",
       "      <td>0</td>\n",
       "      <td>0</td>\n",
       "      <td>0</td>\n",
       "      <td>0</td>\n",
       "      <td>...</td>\n",
       "      <td>0</td>\n",
       "      <td>0</td>\n",
       "      <td>0</td>\n",
       "      <td>0</td>\n",
       "      <td>0</td>\n",
       "      <td>0</td>\n",
       "      <td>0</td>\n",
       "      <td>0</td>\n",
       "      <td>4</td>\n",
       "      <td>0</td>\n",
       "    </tr>\n",
       "    <tr>\n",
       "      <th>4</th>\n",
       "      <td>0</td>\n",
       "      <td>0</td>\n",
       "      <td>0</td>\n",
       "      <td>0</td>\n",
       "      <td>0</td>\n",
       "      <td>0</td>\n",
       "      <td>0</td>\n",
       "      <td>0</td>\n",
       "      <td>0</td>\n",
       "      <td>0</td>\n",
       "      <td>...</td>\n",
       "      <td>0</td>\n",
       "      <td>0</td>\n",
       "      <td>0</td>\n",
       "      <td>0</td>\n",
       "      <td>0</td>\n",
       "      <td>0</td>\n",
       "      <td>0</td>\n",
       "      <td>0</td>\n",
       "      <td>21</td>\n",
       "      <td>0</td>\n",
       "    </tr>\n",
       "  </tbody>\n",
       "</table>\n",
       "<p>5 rows × 3737 columns</p>\n",
       "</div>"
      ],
      "text/plain": [
       "   0  1  2  3  4  5  6  7  8  9         ...          3727  3728  3729  3730  \\\n",
       "0  0  0  0  0  0  0  0  0  0  0         ...             0     0     0     0   \n",
       "1  0  0  0  0  0  0  0  0  0  0         ...             0     0     0     0   \n",
       "2  0  0  0  0  0  0  0  0  0  0         ...             0     0     0     0   \n",
       "3  0  0  0  0  0  0  0  0  0  0         ...             0     0     0     0   \n",
       "4  0  0  0  0  0  0  0  0  0  0         ...             0     0     0     0   \n",
       "\n",
       "   3731  3732  3733  binary_variable  num_variable  intensity_variable  \n",
       "0     0     0     0                0            39                   0  \n",
       "1     0     0     0                0            18                   0  \n",
       "2     0     0     0                0            23                   0  \n",
       "3     0     0     0                0             4                   0  \n",
       "4     0     0     0                0            21                   0  \n",
       "\n",
       "[5 rows x 3737 columns]"
      ]
     },
     "execution_count": 485,
     "metadata": {},
     "output_type": "execute_result"
    }
   ],
   "source": [
    "cv_X['num_variable'] = data['num_variable']\n",
    "cv_X['intensity_variable'] = data['intensity_variable']\n",
    "\n",
    "print(cv_X.shape)\n",
    "cv_X.head()\n"
   ]
  },
  {
   "cell_type": "code",
   "execution_count": 486,
   "metadata": {},
   "outputs": [
    {
     "name": "stdout",
     "output_type": "stream",
     "text": [
      "(15806, 3737) (15806,)\n",
      "(6774, 3737) (6774,)\n"
     ]
    }
   ],
   "source": [
    "#train-test-split dataset\n",
    "cv_X_train, cv_X_test, y_train, y_test = train_test_split(cv_X, y, test_size = 0.3)\n",
    "\n",
    "print(cv_X_train.shape, y_train.shape)\n",
    "print(cv_X_test.shape, y_test.shape)"
   ]
  },
  {
   "cell_type": "code",
   "execution_count": 487,
   "metadata": {},
   "outputs": [
    {
     "name": "stdout",
     "output_type": "stream",
     "text": [
      "train: 0.9161710742755915\n",
      "test: 0.6138175376439327\n"
     ]
    }
   ],
   "source": [
    "#Random Forest classifier with new features\n",
    "rf = RandomForestClassifier()\n",
    "rf.fit(cv_X_train, y_train)\n",
    "print('train:', rf.score(cv_X_train, y_train))\n",
    "\n",
    "print('test:', rf.score(cv_X_test, y_test))"
   ]
  },
  {
   "cell_type": "code",
   "execution_count": 488,
   "metadata": {},
   "outputs": [],
   "source": [
    "#Adding in num_variable and intensity_variable increased the training model score\n",
    "    #decreased test set performance"
   ]
  },
  {
   "cell_type": "code",
   "execution_count": 489,
   "metadata": {},
   "outputs": [],
   "source": [
    "#Using CountVectorizer to create features based on thread title\n",
    "cv2 = CountVectorizer()\n",
    "cv2.fit(data['title'])\n",
    "cv2_X = cv2.fit_transform(data['title'])\n",
    "cv2_X_array = cv2_X.toarray()\n"
   ]
  },
  {
   "cell_type": "code",
   "execution_count": 494,
   "metadata": {},
   "outputs": [
    {
     "name": "stdout",
     "output_type": "stream",
     "text": [
      "(22580, 3737) (22580, 26050)\n"
     ]
    }
   ],
   "source": [
    "cv2_X = pd.DataFrame(cv2_X_array)\n",
    "\n",
    "cv_X_all = pd.concat([cv_X, cv2_X], axis = 1)"
   ]
  },
  {
   "cell_type": "code",
   "execution_count": 495,
   "metadata": {},
   "outputs": [
    {
     "name": "stdout",
     "output_type": "stream",
     "text": [
      "(22580, 3737) (22580, 26050) (22580, 29787)\n"
     ]
    }
   ],
   "source": [
    "print(cv_X.shape, cv2_X.shape, cv_X_all.shape)"
   ]
  },
  {
   "cell_type": "code",
   "execution_count": 500,
   "metadata": {},
   "outputs": [
    {
     "name": "stdout",
     "output_type": "stream",
     "text": [
      "(15806, 29787) (15806,)\n",
      "(6774, 29787) (6774,)\n"
     ]
    }
   ],
   "source": [
    "#train-test-split dataset\n",
    "cv_X_all_train, cv_X_all_test, y_train, y_test = train_test_split(cv_X_all, y, test_size = 0.3)\n",
    "\n",
    "print(cv_X_all_train.shape, y_train.shape)\n",
    "print(cv_X_all_test.shape, y_test.shape)"
   ]
  },
  {
   "cell_type": "code",
   "execution_count": 501,
   "metadata": {},
   "outputs": [
    {
     "name": "stdout",
     "output_type": "stream",
     "text": [
      "train: 0.9525496646842971\n",
      "test: 0.5069382934750517\n"
     ]
    }
   ],
   "source": [
    "#Random Forest classifier with new features\n",
    "rf = RandomForestClassifier()\n",
    "rf.fit(cv_X_train, y_train)\n",
    "print('train:', rf.score(cv_X_train, y_train))\n",
    "\n",
    "print('test:', rf.score(cv_X_test, y_test))"
   ]
  },
  {
   "cell_type": "code",
   "execution_count": 502,
   "metadata": {},
   "outputs": [],
   "source": [
    "#Adding CountVectorizer of post title leads to better model score for training data\n",
    "    #decreased test set performance"
   ]
  },
  {
   "cell_type": "code",
   "execution_count": 504,
   "metadata": {},
   "outputs": [
    {
     "name": "stdout",
     "output_type": "stream",
     "text": [
      "[0.63282732 0.63112939 0.64093641 0.63650743 0.62764948] [0.59439528 0.59926199 0.61180812 0.61299852 0.59822747]\n"
     ]
    }
   ],
   "source": [
    "#Cross-validation to evaluate above model\n",
    "\n",
    "from sklearn.model_selection import cross_val_score\n",
    "\n",
    "train_scores = cross_val_score(rf, cv_X_all_train, y_train, cv = 5)\n",
    "test_scores = cross_val_score(rf, cv_X_all_test, y_test, cv = 5)\n",
    "print(train_scores, test_scores)"
   ]
  },
  {
   "cell_type": "code",
   "execution_count": 508,
   "metadata": {},
   "outputs": [],
   "source": [
    "#Cross-validation scores show poor performance of Random Forest model with CountVectorized subreddit and title variables"
   ]
  },
  {
   "cell_type": "code",
   "execution_count": 509,
   "metadata": {},
   "outputs": [],
   "source": [
    "#Non-Treebased Models\n",
    "    #1. Logistic Regression\n",
    "    #2. KNN\n",
    "        #a. with k = 1\n",
    "        #b. with k = [3, 5, 7, 9, 11]\n"
   ]
  },
  {
   "cell_type": "code",
   "execution_count": 510,
   "metadata": {},
   "outputs": [
    {
     "name": "stdout",
     "output_type": "stream",
     "text": [
      "0.931481715804125\n",
      "0.6834957189253026\n"
     ]
    }
   ],
   "source": [
    "#1. Logistic Regression\n",
    "lr = LogisticRegression()\n",
    "lr.fit(cv_X_all_train, y_train)\n",
    "print(lr.score(cv_X_all_train, y_train))\n",
    "\n",
    "print(lr.score(cv_X_all_test, y_test))"
   ]
  },
  {
   "cell_type": "code",
   "execution_count": null,
   "metadata": {},
   "outputs": [],
   "source": [
    "#Logistic Regression shows similarly poor performance to RF model\n",
    "    #high bias: underfit model"
   ]
  },
  {
   "cell_type": "code",
   "execution_count": null,
   "metadata": {},
   "outputs": [
    {
     "name": "stdout",
     "output_type": "stream",
     "text": [
      "0.9835505504238896\n"
     ]
    }
   ],
   "source": [
    "#2a. KNN with k = 1\n",
    "from sklearn.neighbors import KNeighborsClassifier\n",
    "knn = KNeighborsClassifier(n_neighbors = 1)\n",
    "knn.fit(cv_X_all_train, y_train)\n",
    "print(knn.score(cv_X_all_train, y_train))\n",
    "\n",
    "print(knn.score(cv_X_all_test, y_test))"
   ]
  },
  {
   "cell_type": "code",
   "execution_count": null,
   "metadata": {},
   "outputs": [],
   "source": [
    "#KNN with k = 1 shows "
   ]
  },
  {
   "cell_type": "code",
   "execution_count": null,
   "metadata": {},
   "outputs": [],
   "source": [
    "#2b. KNN with k = [3, 5, 7, 9, 11]\n",
    "k = {3: , 5: , 7: , 9: , 11: }\n",
    "\n",
    "for k, k_score in k.items():\n",
    "    knn = KNeighborsClassifier(n_neighbors = k)\n",
    "    knn.fit(cv_X_all_train, y_train)\n",
    "    k_score = knn.score(cv_X_all_train, y_train)\n",
    "    print(k, knn.score(cv_X_all_train, y_train))\n",
    "\n",
    "    print(k, knn.score(cv_X_all_test, y_test))\n"
   ]
  },
  {
   "cell_type": "code",
   "execution_count": null,
   "metadata": {},
   "outputs": [],
   "source": [
    "#KNN with k = [3, 5, 7, 9, 11] shows "
   ]
  }
 ],
 "metadata": {
  "kernelspec": {
   "display_name": "Python [conda env:dsi]",
   "language": "python",
   "name": "conda-env-dsi-py"
  },
  "language_info": {
   "codemirror_mode": {
    "name": "ipython",
    "version": 3
   },
   "file_extension": ".py",
   "mimetype": "text/x-python",
   "name": "python",
   "nbconvert_exporter": "python",
   "pygments_lexer": "ipython3",
   "version": "3.6.5"
  }
 },
 "nbformat": 4,
 "nbformat_minor": 2
}
